{
 "cells": [
  {
   "cell_type": "code",
   "execution_count": 1,
   "metadata": {},
   "outputs": [
    {
     "name": "stdout",
     "output_type": "stream",
     "text": [
      "Collecting parallel_bilby\n",
      "  Using cached parallel_bilby-0.1.6.tar.gz (25 kB)\n",
      "Requirement already satisfied: future in /cvmfs/oasis.opensciencegrid.org/ligo/deploy/sw/conda/envs/igwn-py38-20201027/lib/python3.8/site-packages (from parallel_bilby) (0.18.2)\n",
      "Requirement already satisfied: bilby>=0.6.9 in /cvmfs/oasis.opensciencegrid.org/ligo/deploy/sw/conda/envs/igwn-py38-20201027/lib/python3.8/site-packages (from parallel_bilby) (1.0.2)\n",
      "Requirement already satisfied: bilby_pipe>=0.3.12 in /cvmfs/oasis.opensciencegrid.org/ligo/deploy/sw/conda/envs/igwn-py38-20201027/lib/python3.8/site-packages (from parallel_bilby) (1.0.2)\n",
      "Requirement already satisfied: scipy>=1.2.0 in /cvmfs/oasis.opensciencegrid.org/ligo/deploy/sw/conda/envs/igwn-py38-20201027/lib/python3.8/site-packages (from parallel_bilby) (1.4.1)\n",
      "Requirement already satisfied: gwpy in /cvmfs/oasis.opensciencegrid.org/ligo/deploy/sw/conda/envs/igwn-py38-20201027/lib/python3.8/site-packages (from parallel_bilby) (2.0.1)\n",
      "Requirement already satisfied: matplotlib in /cvmfs/oasis.opensciencegrid.org/ligo/deploy/sw/conda/envs/igwn-py38-20201027/lib/python3.8/site-packages (from parallel_bilby) (3.2.1)\n",
      "Requirement already satisfied: numpy in /cvmfs/oasis.opensciencegrid.org/ligo/deploy/sw/conda/envs/igwn-py38-20201027/lib/python3.8/site-packages (from parallel_bilby) (1.18.1)\n",
      "Requirement already satisfied: tqdm in /cvmfs/oasis.opensciencegrid.org/ligo/deploy/sw/conda/envs/igwn-py38-20201027/lib/python3.8/site-packages (from parallel_bilby) (4.45.0)\n",
      "Requirement already satisfied: corner in /cvmfs/oasis.opensciencegrid.org/ligo/deploy/sw/conda/envs/igwn-py38-20201027/lib/python3.8/site-packages (from parallel_bilby) (2.0.1)\n",
      "Requirement already satisfied: dynesty>=1.0.0 in /cvmfs/oasis.opensciencegrid.org/ligo/deploy/sw/conda/envs/igwn-py38-20201027/lib/python3.8/site-packages (from parallel_bilby) (1.0.1)\n",
      "Collecting schwimmbad\n",
      "  Using cached schwimmbad-0.3.1.tar.gz (18 kB)\n",
      "  Installing build dependencies ... \u001b[?25ldone\n",
      "\u001b[?25h  Getting requirements to build wheel ... \u001b[?25ldone\n",
      "\u001b[?25h    Preparing wheel metadata ... \u001b[?25ldone\n",
      "\u001b[?25hRequirement already satisfied: pandas in /cvmfs/oasis.opensciencegrid.org/ligo/deploy/sw/conda/envs/igwn-py38-20201027/lib/python3.8/site-packages (from parallel_bilby) (0.25.3)\n",
      "Collecting nestcheck\n",
      "  Using cached nestcheck-0.2.1-py2.py3-none-any.whl (49 kB)\n",
      "Requirement already satisfied: dill in /cvmfs/oasis.opensciencegrid.org/ligo/deploy/sw/conda/envs/igwn-py38-20201027/lib/python3.8/site-packages (from bilby>=0.6.9->parallel_bilby) (0.3.1.1)\n",
      "Requirement already satisfied: emcee in /cvmfs/oasis.opensciencegrid.org/ligo/deploy/sw/conda/envs/igwn-py38-20201027/lib/python3.8/site-packages (from bilby>=0.6.9->parallel_bilby) (2.2.1)\n",
      "Requirement already satisfied: ligo-gracedb in /cvmfs/oasis.opensciencegrid.org/ligo/deploy/sw/conda/envs/igwn-py38-20201027/lib/python3.8/site-packages (from bilby_pipe>=0.3.12->parallel_bilby) (2.7.1)\n",
      "Requirement already satisfied: gwosc in /cvmfs/oasis.opensciencegrid.org/ligo/deploy/sw/conda/envs/igwn-py38-20201027/lib/python3.8/site-packages (from bilby_pipe>=0.3.12->parallel_bilby) (0.5.4)\n",
      "Requirement already satisfied: pesummary>=0.2.4 in /cvmfs/oasis.opensciencegrid.org/ligo/deploy/sw/conda/envs/igwn-py38-20201027/lib/python3.8/site-packages (from bilby_pipe>=0.3.12->parallel_bilby) (0.9.1)\n",
      "Requirement already satisfied: configargparse in /cvmfs/oasis.opensciencegrid.org/ligo/deploy/sw/conda/envs/igwn-py38-20201027/lib/python3.8/site-packages (from bilby_pipe>=0.3.12->parallel_bilby) (1.2.3)\n",
      "Requirement already satisfied: pycondor>=0.5 in /cvmfs/oasis.opensciencegrid.org/ligo/deploy/sw/conda/envs/igwn-py38-20201027/lib/python3.8/site-packages (from bilby_pipe>=0.3.12->parallel_bilby) (0.5.0)\n",
      "Requirement already satisfied: jinja2 in /cvmfs/oasis.opensciencegrid.org/ligo/deploy/sw/conda/envs/igwn-py38-20201027/lib/python3.8/site-packages (from bilby_pipe>=0.3.12->parallel_bilby) (2.11.2)\n",
      "Requirement already satisfied: gwdatafind in /cvmfs/oasis.opensciencegrid.org/ligo/deploy/sw/conda/envs/igwn-py38-20201027/lib/python3.8/site-packages (from gwpy->parallel_bilby) (1.0.4)\n",
      "Requirement already satisfied: h5py>=2.7.0 in /cvmfs/oasis.opensciencegrid.org/ligo/deploy/sw/conda/envs/igwn-py38-20201027/lib/python3.8/site-packages (from gwpy->parallel_bilby) (2.10.0)\n",
      "Requirement already satisfied: ligo-segments>=1.0.0 in /cvmfs/oasis.opensciencegrid.org/ligo/deploy/sw/conda/envs/igwn-py38-20201027/lib/python3.8/site-packages (from gwpy->parallel_bilby) (1.2.0)\n",
      "Requirement already satisfied: python-dateutil in /cvmfs/oasis.opensciencegrid.org/ligo/deploy/sw/conda/envs/igwn-py38-20201027/lib/python3.8/site-packages (from gwpy->parallel_bilby) (2.8.1)\n",
      "Requirement already satisfied: ligotimegps>=1.2.1 in /cvmfs/oasis.opensciencegrid.org/ligo/deploy/sw/conda/envs/igwn-py38-20201027/lib/python3.8/site-packages (from gwpy->parallel_bilby) (2.0.0)\n",
      "Requirement already satisfied: dqsegdb2 in /cvmfs/oasis.opensciencegrid.org/ligo/deploy/sw/conda/envs/igwn-py38-20201027/lib/python3.8/site-packages (from gwpy->parallel_bilby) (1.0.1)\n",
      "Requirement already satisfied: astropy>=3.0.0 in /cvmfs/oasis.opensciencegrid.org/ligo/deploy/sw/conda/envs/igwn-py38-20201027/lib/python3.8/site-packages (from gwpy->parallel_bilby) (4.0)\n",
      "Requirement already satisfied: pyparsing!=2.0.4,!=2.1.2,!=2.1.6,>=2.0.1 in /cvmfs/oasis.opensciencegrid.org/ligo/deploy/sw/conda/envs/igwn-py38-20201027/lib/python3.8/site-packages (from matplotlib->parallel_bilby) (2.4.7)\n",
      "Requirement already satisfied: cycler>=0.10 in /cvmfs/oasis.opensciencegrid.org/ligo/deploy/sw/conda/envs/igwn-py38-20201027/lib/python3.8/site-packages (from matplotlib->parallel_bilby) (0.10.0)\n",
      "Requirement already satisfied: kiwisolver>=1.0.1 in /cvmfs/oasis.opensciencegrid.org/ligo/deploy/sw/conda/envs/igwn-py38-20201027/lib/python3.8/site-packages (from matplotlib->parallel_bilby) (1.2.0)\n",
      "Requirement already satisfied: six in /cvmfs/oasis.opensciencegrid.org/ligo/deploy/sw/conda/envs/igwn-py38-20201027/lib/python3.8/site-packages (from dynesty>=1.0.0->parallel_bilby) (1.14.0)\n",
      "Requirement already satisfied: pytz>=2017.2 in /cvmfs/oasis.opensciencegrid.org/ligo/deploy/sw/conda/envs/igwn-py38-20201027/lib/python3.8/site-packages (from pandas->parallel_bilby) (2019.3)\n",
      "Collecting fgivenx>=2.1.11\n",
      "  Using cached fgivenx-2.2.2.tar.gz (606 kB)\n",
      "Requirement already satisfied: cryptography>=1.7.2 in /cvmfs/oasis.opensciencegrid.org/ligo/deploy/sw/conda/envs/igwn-py38-20201027/lib/python3.8/site-packages (from ligo-gracedb->bilby_pipe>=0.3.12->parallel_bilby) (3.2)\n",
      "Requirement already satisfied: requests>=2.6.0 in /cvmfs/oasis.opensciencegrid.org/ligo/deploy/sw/conda/envs/igwn-py38-20201027/lib/python3.8/site-packages (from ligo-gracedb->bilby_pipe>=0.3.12->parallel_bilby) (2.23.0)\n",
      "Requirement already satisfied: tables in /cvmfs/oasis.opensciencegrid.org/ligo/deploy/sw/conda/envs/igwn-py38-20201027/lib/python3.8/site-packages (from pesummary>=0.2.4->bilby_pipe>=0.3.12->parallel_bilby) (3.6.1)\n",
      "Requirement already satisfied: seaborn in /cvmfs/oasis.opensciencegrid.org/ligo/deploy/sw/conda/envs/igwn-py38-20201027/lib/python3.8/site-packages (from pesummary>=0.2.4->bilby_pipe>=0.3.12->parallel_bilby) (0.10.0)\n",
      "Requirement already satisfied: statsmodels in /cvmfs/oasis.opensciencegrid.org/ligo/deploy/sw/conda/envs/igwn-py38-20201027/lib/python3.8/site-packages (from pesummary>=0.2.4->bilby_pipe>=0.3.12->parallel_bilby) (0.12.0)\n",
      "Collecting configparser\n",
      "  Using cached configparser-5.0.1-py3-none-any.whl (22 kB)\n",
      "Requirement already satisfied: plotly in /cvmfs/oasis.opensciencegrid.org/ligo/deploy/sw/conda/envs/igwn-py38-20201027/lib/python3.8/site-packages (from pesummary>=0.2.4->bilby_pipe>=0.3.12->parallel_bilby) (4.12.0)\n",
      "Requirement already satisfied: deepdish in /cvmfs/oasis.opensciencegrid.org/ligo/deploy/sw/conda/envs/igwn-py38-20201027/lib/python3.8/site-packages (from pesummary>=0.2.4->bilby_pipe>=0.3.12->parallel_bilby) (0.3.4)\n",
      "Requirement already satisfied: pygments in /cvmfs/oasis.opensciencegrid.org/ligo/deploy/sw/conda/envs/igwn-py38-20201027/lib/python3.8/site-packages (from pesummary>=0.2.4->bilby_pipe>=0.3.12->parallel_bilby) (2.6.1)\n",
      "Requirement already satisfied: lalsuite>=6.70.0 in /cvmfs/oasis.opensciencegrid.org/ligo/deploy/sw/conda/envs/igwn-py38-20201027/lib/python3.8/site-packages (from pesummary>=0.2.4->bilby_pipe>=0.3.12->parallel_bilby) (6.78)\n",
      "Requirement already satisfied: click in /cvmfs/oasis.opensciencegrid.org/ligo/deploy/sw/conda/envs/igwn-py38-20201027/lib/python3.8/site-packages (from pycondor>=0.5->bilby_pipe>=0.3.12->parallel_bilby) (7.1.1)\n",
      "Requirement already satisfied: MarkupSafe>=0.23 in /cvmfs/oasis.opensciencegrid.org/ligo/deploy/sw/conda/envs/igwn-py38-20201027/lib/python3.8/site-packages (from jinja2->bilby_pipe>=0.3.12->parallel_bilby) (1.1.1)\n",
      "Requirement already satisfied: pyOpenSSL in /cvmfs/oasis.opensciencegrid.org/ligo/deploy/sw/conda/envs/igwn-py38-20201027/lib/python3.8/site-packages (from gwdatafind->gwpy->parallel_bilby) (19.1.0)\n",
      "Requirement already satisfied: cffi!=1.11.3,>=1.8 in /cvmfs/oasis.opensciencegrid.org/ligo/deploy/sw/conda/envs/igwn-py38-20201027/lib/python3.8/site-packages (from cryptography>=1.7.2->ligo-gracedb->bilby_pipe>=0.3.12->parallel_bilby) (1.14.3)\n",
      "Requirement already satisfied: idna<3,>=2.5 in /cvmfs/oasis.opensciencegrid.org/ligo/deploy/sw/conda/envs/igwn-py38-20201027/lib/python3.8/site-packages (from requests>=2.6.0->ligo-gracedb->bilby_pipe>=0.3.12->parallel_bilby) (2.10)\n",
      "Requirement already satisfied: chardet<4,>=3.0.2 in /cvmfs/oasis.opensciencegrid.org/ligo/deploy/sw/conda/envs/igwn-py38-20201027/lib/python3.8/site-packages (from requests>=2.6.0->ligo-gracedb->bilby_pipe>=0.3.12->parallel_bilby) (3.0.4)\n",
      "Requirement already satisfied: certifi>=2017.4.17 in /cvmfs/oasis.opensciencegrid.org/ligo/deploy/sw/conda/envs/igwn-py38-20201027/lib/python3.8/site-packages (from requests>=2.6.0->ligo-gracedb->bilby_pipe>=0.3.12->parallel_bilby) (2020.4.5.1)\n",
      "Requirement already satisfied: urllib3!=1.25.0,!=1.25.1,<1.26,>=1.21.1 in /cvmfs/oasis.opensciencegrid.org/ligo/deploy/sw/conda/envs/igwn-py38-20201027/lib/python3.8/site-packages (from requests>=2.6.0->ligo-gracedb->bilby_pipe>=0.3.12->parallel_bilby) (1.25.8)\n"
     ]
    },
    {
     "name": "stdout",
     "output_type": "stream",
     "text": [
      "Requirement already satisfied: numexpr>=2.6.2 in /cvmfs/oasis.opensciencegrid.org/ligo/deploy/sw/conda/envs/igwn-py38-20201027/lib/python3.8/site-packages (from tables->pesummary>=0.2.4->bilby_pipe>=0.3.12->parallel_bilby) (2.7.1)\n",
      "Requirement already satisfied: patsy>=0.5 in /cvmfs/oasis.opensciencegrid.org/ligo/deploy/sw/conda/envs/igwn-py38-20201027/lib/python3.8/site-packages (from statsmodels->pesummary>=0.2.4->bilby_pipe>=0.3.12->parallel_bilby) (0.5.1)\n",
      "Requirement already satisfied: retrying>=1.3.3 in /cvmfs/oasis.opensciencegrid.org/ligo/deploy/sw/conda/envs/igwn-py38-20201027/lib/python3.8/site-packages (from plotly->pesummary>=0.2.4->bilby_pipe>=0.3.12->parallel_bilby) (1.3.3)\n",
      "Requirement already satisfied: lscsoft-glue in /cvmfs/oasis.opensciencegrid.org/ligo/deploy/sw/conda/envs/igwn-py38-20201027/lib/python3.8/site-packages (from lalsuite>=6.70.0->pesummary>=0.2.4->bilby_pipe>=0.3.12->parallel_bilby) (2.0.0)\n",
      "Requirement already satisfied: pycparser in /cvmfs/oasis.opensciencegrid.org/ligo/deploy/sw/conda/envs/igwn-py38-20201027/lib/python3.8/site-packages (from cffi!=1.11.3,>=1.8->cryptography>=1.7.2->ligo-gracedb->bilby_pipe>=0.3.12->parallel_bilby) (2.20)\n",
      "Building wheels for collected packages: parallel-bilby, schwimmbad, fgivenx\n",
      "  Building wheel for parallel-bilby (setup.py) ... \u001b[?25ldone\n",
      "\u001b[?25h  Created wheel for parallel-bilby: filename=parallel_bilby-0.1.6-py3-none-any.whl size=28278 sha256=ccebd7081412098fefca7d08e70f66f34d87370bda03fa2c1d804263cd22124c\n",
      "  Stored in directory: /home/rory.smith/.cache/pip/wheels/cb/72/88/e0c2f0e426508bbf5eddd0ce67b06719c75ad8935da8bd8681\n",
      "  Building wheel for schwimmbad (PEP 517) ... \u001b[?25ldone\n",
      "\u001b[?25h  Created wheel for schwimmbad: filename=schwimmbad-0.3.1-py3-none-any.whl size=13911 sha256=89a967abab6af76d9c3c120a6f6e06bdd58a5efc2d8864cb7c9758332acf8eaf\n",
      "  Stored in directory: /home/rory.smith/.cache/pip/wheels/40/4e/27/dd1f07d5f1833f34abfb336368cb0184908d5b7445d2f86aba\n",
      "  Building wheel for fgivenx (setup.py) ... \u001b[?25ldone\n",
      "\u001b[?25h  Created wheel for fgivenx: filename=fgivenx-2.2.2-py3-none-any.whl size=617072 sha256=4abd6e0ee96bd7004a720168ca661e8db701daf265488396cbc63785d2e6058d\n",
      "  Stored in directory: /home/rory.smith/.cache/pip/wheels/c9/f8/eb/5403db70f517e1bbe2c744a125200b6555687235d04caa1641\n",
      "Successfully built parallel-bilby schwimmbad fgivenx\n",
      "Installing collected packages: schwimmbad, fgivenx, nestcheck, parallel-bilby, configparser\n",
      "\u001b[33m  WARNING: The scripts parallel_bilby_analysis, parallel_bilby_generation and parallel_bilby_ptemcee_analysis are installed in '/home/rory.smith/.local/bin' which is not on PATH.\n",
      "  Consider adding this directory to PATH or, if you prefer to suppress this warning, use --no-warn-script-location.\u001b[0m\n",
      "Successfully installed configparser-5.0.1 fgivenx-2.2.2 nestcheck-0.2.1 parallel-bilby-0.1.6 schwimmbad-0.3.1\n"
     ]
    }
   ],
   "source": [
    "!pip install parallel_bilby --user"
   ]
  },
  {
   "cell_type": "markdown",
   "metadata": {},
   "source": [
    "## Running pbilby on a cluster (or laptop)"
   ]
  },
  {
   "cell_type": "markdown",
   "metadata": {},
   "source": [
    "This tutorial will demonstrate how to set up parallel_bilby (pbilby) jobs, which can be run on a cluster, via slurm, or on a laptop (though the latter will be limited to the number of available cores on the machine).\n",
    "\n",
    "There are three steps to running pbilby. The first is the ini file. This contains everything to set up the run. The ini file `GW150914.ini` is contained in this directory.\n",
    "\n",
    "The ini file is set up to analyze GW150914 using GWOSC data. We will use the `dynesty` nested sampling algorithm. Let's start by understanding the ini file. None of the cells detailing the ini file need to be run. I've just added them here to describe them in detail.\n",
    "\n"
   ]
  },
  {
   "cell_type": "markdown",
   "metadata": {},
   "source": [
    "### ini file"
   ]
  },
  {
   "cell_type": "markdown",
   "metadata": {},
   "source": [
    "The first part of the ini file sets the data specific settings"
   ]
  },
  {
   "cell_type": "code",
   "execution_count": null,
   "metadata": {},
   "outputs": [],
   "source": [
    "\n",
    "################################################################################\n",
    "####### Data generation arguments\n",
    "################################################################################\n",
    "\n",
    "trigger_time = 1126259462.4\n",
    "\n",
    "################################################################################\n",
    "####### Detector arguments\n",
    "################################################################################\n",
    "\n",
    "detectors = [H1, L1]\n",
    "psd_dict = {H1=psd_data/h1_psd.txt, L1=psd_data/l1_psd.txt}\n",
    "channel_dict = {H1:GWOSC, L1:GWOSC}\n",
    "duration = 4"
   ]
  },
  {
   "cell_type": "markdown",
   "metadata": {},
   "source": [
    "The trigger time is the time of the merger, as estimated by the search pipelines. This can be found from GWOSC. By convention, the data is such that the trigger time occurs 2s before the end of the data segment.\n",
    "\n",
    "Next, we specify the detectors, PSD, data channel and data duration. Only LIGO Hanford and Livingston were operational at the time of GW150914 so we only specify these instruments. The PSD is contained in the `psd_data` directory. Because we are using GWOSC data, we only need to specify the data channel as GWOSC. Lastly, because GW150914 is only in band for a short duration (a few hundred ms) we will only analyze 4s of data containing the signal."
   ]
  },
  {
   "cell_type": "markdown",
   "metadata": {},
   "source": [
    "The next set of arguments set up the likelihood and prior:"
   ]
  },
  {
   "cell_type": "code",
   "execution_count": null,
   "metadata": {},
   "outputs": [],
   "source": [
    "################################################################################\n",
    "## Likelihood arguments\n",
    "################################################################################\n",
    "\n",
    "distance-marginalization=True\n",
    "phase-marginalization=True\n",
    "time-marginalization=True\n",
    "\n",
    "################################################################################\n",
    "## Prior arguments\n",
    "################################################################################\n",
    "\n",
    "prior-dict = {\n",
    "  mass_ratio = Uniform(name='mass_ratio', minimum=0.125, maximum=1),\n",
    "  chirp_mass = Uniform(name='chirp_mass', minimum=25, maximum=31),\n",
    "  mass_1 = Constraint(name='mass_1', minimum=10, maximum=80),\n",
    "  mass_2 = Constraint(name='mass_2', minimum=10, maximum=80),\n",
    "  a_1 = Uniform(name='a_1', minimum=0, maximum=0.99),\n",
    "  a_2 = Uniform(name='a_2', minimum=0, maximum=0.99),\n",
    "  tilt_1 = Sine(name='tilt_1'),\n",
    "  tilt_2 = Sine(name='tilt_2'),\n",
    "  phi_12 = Uniform(name='phi_12', minimum=0, maximum=2 * np.pi, boundary='periodic'),\n",
    "  phi_jl = Uniform(name='phi_jl', minimum=0, maximum=2 * np.pi, boundary='periodic'),\n",
    "  luminosity_distance = PowerLaw(alpha=2, name='luminosity_distance', minimum=50, maximum=2000),\n",
    "  dec =  Cosine(name='dec'),\n",
    "  ra =  Uniform(name='ra', minimum=0, maximum=2 * np.pi, boundary='periodic'),\n",
    "  theta_jn =  Sine(name='theta_jn'),\n",
    "  psi =  Uniform(name='psi', minimum=0, maximum=np.pi, boundary='periodic'),\n",
    "  phase =  Uniform(name='phase', minimum=0, maximum=2 * np.pi, boundary='periodic')\n",
    "}\n"
   ]
  },
  {
   "cell_type": "markdown",
   "metadata": {},
   "source": [
    "The likelihood arguments are flags that specify if the three parameters `distance, phase, time` should be numerically/analytically marginalized over each time the likelihood is called. Setting these to True can significantly speed up the run, and these parameters can be recovered in postprocessing (i.e., they're not lost if you choose to marginalized over them). The only time when you might not want to set these to true is if you're going to use a waveform that contains higher order mode content. In this case, the prescription for phase marginalization is formally invalid and phase-marginalization should be set to false."
   ]
  },
  {
   "cell_type": "markdown",
   "metadata": {},
   "source": [
    "Next we set the prior. These priors are chosen to be wide enough to capture the bulk of the posterior, but narrow enough so the run converges fairly quickly. "
   ]
  },
  {
   "cell_type": "markdown",
   "metadata": {},
   "source": [
    "The next set of arguments set the template waveform. Here we will use `IMRPhenomPv2` because it achieves a good trade off between accuracy and speed. More contemporary waveform models could easily be swapped in, e.g., `IMRPhenomXPHM`. "
   ]
  },
  {
   "cell_type": "code",
   "execution_count": null,
   "metadata": {
    "scrolled": true
   },
   "outputs": [],
   "source": [
    "################################################################################\n",
    "## Waveform arguments\n",
    "################################################################################\n",
    "\n",
    "waveform_approximant = IMRPhenomPv2\n",
    "frequency-domain-source-model = lal_binary_black_hole"
   ]
  },
  {
   "cell_type": "markdown",
   "metadata": {},
   "source": [
    "Next, we set up dynesty:"
   ]
  },
  {
   "cell_type": "code",
   "execution_count": null,
   "metadata": {},
   "outputs": [],
   "source": [
    "###############################################################################\n",
    "## Sampler settings\n",
    "################################################################################\n",
    "\n",
    "sampler = dynesty\n",
    "nlive = 1000\n",
    "nact = 5\n"
   ]
  },
  {
   "cell_type": "markdown",
   "metadata": {},
   "source": [
    "These settings should be fine for a \"quick\" run, though our recommended settings for \"production\" analyses are `nlive=1500`, `nact=10`"
   ]
  },
  {
   "cell_type": "markdown",
   "metadata": {},
   "source": [
    "Lastly, we set up the slurm scheduler:\n",
    "    "
   ]
  },
  {
   "cell_type": "code",
   "execution_count": null,
   "metadata": {},
   "outputs": [],
   "source": [
    "################################################################################\n",
    "## Slurm Settings\n",
    "################################################################################\n",
    "\n",
    "nodes = 10\n",
    "ntasks-per-node = 16\n",
    "time = 24:00:00"
   ]
  },
  {
   "cell_type": "markdown",
   "metadata": {},
   "source": [
    "The actual settings you choose will depend entirely on the cluster you run on. Here `ntasks-per-node` is the number of CPUs per node (or cores per node), so this job would specify 10 nodes, each with 16 cores, for a total of 160 cores/CPUs. "
   ]
  },
  {
   "cell_type": "markdown",
   "metadata": {},
   "source": [
    "Running pbilby is a two step process. First, we run `parallel_bilby_generation`. This creates the run directory structure, produces the `data_dump` file which contains the data, psd etc..., as well as the slurm submit script:"
   ]
  },
  {
   "cell_type": "code",
   "execution_count": 5,
   "metadata": {},
   "outputs": [
    {
     "name": "stdout",
     "output_type": "stream",
     "text": [
      "/bin/sh: parallel_bilby_generaiton: command not found\r\n"
     ]
    }
   ],
   "source": [
    "!parallel_bilby_generaiton GW150914.ini"
   ]
  },
  {
   "cell_type": "code",
   "execution_count": null,
   "metadata": {},
   "outputs": [],
   "source": []
  }
 ],
 "metadata": {
  "kernelspec": {
   "display_name": "igwn-py38",
   "language": "python",
   "name": "igwn-py38"
  },
  "language_info": {
   "codemirror_mode": {
    "name": "ipython",
    "version": 3
   },
   "file_extension": ".py",
   "mimetype": "text/x-python",
   "name": "python",
   "nbconvert_exporter": "python",
   "pygments_lexer": "ipython3",
   "version": "3.8.3"
  }
 },
 "nbformat": 4,
 "nbformat_minor": 4
}
