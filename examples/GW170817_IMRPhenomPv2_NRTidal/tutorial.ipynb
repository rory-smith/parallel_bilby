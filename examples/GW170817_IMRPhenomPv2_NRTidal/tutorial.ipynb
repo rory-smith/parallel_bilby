{
 "cells": [
  {
   "cell_type": "markdown",
   "metadata": {},
   "source": [
    "## Running pbilby on a cluster (or laptop)"
   ]
  },
  {
   "cell_type": "markdown",
   "metadata": {},
   "source": [
    "This tutorial will demonstrate how to set up parallel_bilby (pbilby) jobs, which can be run on a cluster, via slurm, or on a laptop (though the latter will be limited to the number of available cores on the machine).\n",
    "\n",
    "There are three steps to running pbilby. The first is the ini file. This contains everything to set up the run. The ini file `GW170817.ini` is contained in this directory. This tutorial is similar to the GW150914 tutorial, except here we're going to manually specify the data rather than going through GWOSC. This type of example (where we manually point to data frames) is closer to how we would run on real data for production LVC analyses.\n",
    "\n"
   ]
  },
  {
   "cell_type": "markdown",
   "metadata": {},
   "source": [
    "### ini file"
   ]
  },
  {
   "cell_type": "markdown",
   "metadata": {},
   "source": [
    "The first part of the ini file sets the data specific settings"
   ]
  },
  {
   "cell_type": "code",
   "execution_count": null,
   "metadata": {},
   "outputs": [],
   "source": [
    "\n",
    "################################################################################\n",
    "## Data generation arguments\n",
    "################################################################################\n",
    "\n",
    "trigger_time = 1187008882.43\n",
    "\n",
    "################################################################################\n",
    "## Detector arguments\n",
    "################################################################################\n",
    "\n",
    "detectors = [H1, L1, V1]\n",
    "psd_dict = {H1=psd_data/h1_psd.txt, L1=psd_data/l1_psd.txt, V1=psd_data/v1_psd.txt}\n",
    "\n",
    "# Download the data from https://www.gw-openscience.org/events/GW170817/ and place in raw_data/\n",
    "data-dict = {H1:raw_data/H-H1_LOSC_CLN_4_V1-1187007040-2048.gwf, L1:raw_data/L-L1_LOSC_CLN_4_V1-1187007040-2048.gwf, V1:raw_data/V-V1_LOSC_CLN_4_V1-1187007040-2048.gwf}\n",
    "channel_dict = {H1:LOSC-STRAIN, L1:LOSC-STRAIN, V1=LOSC-STRAIN}\n",
    "duration = 128"
   ]
  },
  {
   "cell_type": "markdown",
   "metadata": {},
   "source": [
    "The trigger time is the time of the merger, as estimated by the search pipelines. This can be found from GWOSC. By convention, the data is such that the trigger time occurs 2s before the end of the data segment.\n",
    "\n",
    "Next, we specify the detectors, PSD, data channel and data duration. The LIGO Hanford and Livingston, and Virgo detectors were operational at the time of GW170817 so we specify these three instruments. The PSD is contained in the `psd_data` directory. Lastly, because GW170817 is in band for around 100s, we analyze 128s of data containing the signal.\n",
    "\n",
    "The data is expected to be in the directory `raw_data`. This is not contained in the git repo because of file size limits. To run this tutorial, you will first need to download the `.gwf` data from GWOSC (https://www.gw-openscience.org/events/GW170817/)"
   ]
  },
  {
   "cell_type": "markdown",
   "metadata": {},
   "source": [
    "The next set of arguments set up the likelihood and prior:"
   ]
  },
  {
   "cell_type": "code",
   "execution_count": null,
   "metadata": {},
   "outputs": [],
   "source": [
    "################################################################################\n",
    "## Likelihood arguments\n",
    "################################################################################\n",
    "\n",
    "distance-marginalization=True\n",
    "phase-marginalization=True\n",
    "time-marginalization=True\n",
    "\n",
    "################################################################################\n",
    "## Prior arguments\n",
    "################################################################################\n",
    "\n",
    "prior-file = GW170817.prior\n"
   ]
  },
  {
   "cell_type": "markdown",
   "metadata": {},
   "source": [
    "The likelihood arguments are flags that specify if the three parameters `distance, phase, time` should be numerically/analytically marginalized over each time the likelihood is called. Setting these to True can significantly speed up the run, and these parameters can be recovered in postprocessing (i.e., they're not lost if you choose to marginalized over them). The only time when you might not want to set these to true is if you're going to use a waveform that contains higher order mode content. In this case, the prescription for phase marginalization is formally invalid and phase-marginalization should be set to false."
   ]
  },
  {
   "cell_type": "markdown",
   "metadata": {},
   "source": [
    "Next we set the prior. These priors are chosen to be wide enough to capture the bulk of the posterior, but narrow enough so the run converges fairly quickly. The prior is specified in the file `GW170817.prior` which is contained in this directory."
   ]
  },
  {
   "cell_type": "markdown",
   "metadata": {},
   "source": [
    "The next set of arguments set the template waveform. Here we will use `IMRPhenomPv2_NRTiral` because it achieves a good trade off between accuracy and speed. More contemporary waveform models could easily be swapped in. Note we also set `frequency-domain-source-model = lal_binary_neutron_star`. This essentially \"turns on\" sampling over tidal parameters."
   ]
  },
  {
   "cell_type": "code",
   "execution_count": null,
   "metadata": {
    "scrolled": true
   },
   "outputs": [],
   "source": [
    "################################################################################\n",
    "## Waveform arguments\n",
    "################################################################################\n",
    "\n",
    "waveform_approximant = IMRPhenomPv2_NRTidal\n",
    "frequency-domain-source-model = lal_binary_neutron_star"
   ]
  },
  {
   "cell_type": "markdown",
   "metadata": {},
   "source": [
    "Next, we set up dynesty:"
   ]
  },
  {
   "cell_type": "code",
   "execution_count": null,
   "metadata": {},
   "outputs": [],
   "source": [
    "###############################################################################\n",
    "## Sampler settings\n",
    "################################################################################\n",
    "\n",
    "sampler = dynesty\n",
    "nlive = 1000\n",
    "nact = 5\n"
   ]
  },
  {
   "cell_type": "markdown",
   "metadata": {},
   "source": [
    "These settings should be fine for a \"quick\" run, though our recommended settings for \"production\" analyses are `nlive=1500`, `nact=10`"
   ]
  },
  {
   "cell_type": "markdown",
   "metadata": {},
   "source": [
    "Lastly, we set up the slurm scheduler:\n",
    "    "
   ]
  },
  {
   "cell_type": "code",
   "execution_count": null,
   "metadata": {},
   "outputs": [],
   "source": [
    "################################################################################\n",
    "## Slurm Settings\n",
    "################################################################################\n",
    "\n",
    "nodes = 10\n",
    "ntasks-per-node = 16\n",
    "time = 24:00:00"
   ]
  },
  {
   "cell_type": "markdown",
   "metadata": {},
   "source": [
    "The actual settings you choose will depend entirely on the cluster you run on. Here `ntasks-per-node` is the number of CPUs per node (or cores per node), so this job would specify 10 nodes, each with 16 cores, for a total of 160 cores/CPUs. "
   ]
  },
  {
   "cell_type": "markdown",
   "metadata": {},
   "source": [
    "Running pbilby is a two step process. First, we run `parallel_bilby_generation`. This creates the run directory structure, produces the `data_dump` file which contains the data, psd etc..., as well as the slurm submit script:"
   ]
  },
  {
   "cell_type": "code",
   "execution_count": 2,
   "metadata": {},
   "outputs": [
    {
     "name": "stdout",
     "output_type": "stream",
     "text": [
      "14:26 bilby_pipe WARNING : You do not have nds2 (python-nds2-client) installed. You may  experience problems accessing interferometer data.\n",
      "14:26 bilby_pipe WARNING : You do not have LDAStools.frameCPP (python-ldas-tools-framecpp) installed. You may experience problems accessing interferometer data.\n",
      "14:26 bilby_pipe INFO    : Command line arguments: Namespace(Tmax=10000, accounting=None, adapt=False, autocorr_c=5.0, autocorr_tol=50.0, bilby_zero_likelihood_mode=False, burn_in_nact=50.0, calibration_model=None, catch_waveform_errors=False, channel_dict='{H1:LOSC-STRAIN, L1:LOSC-STRAIN, V1=LOSC-STRAIN}', check_point_deltaT=3600, clean=False, cluster=None, coherence_test=False, convert_to_flat_in_component_mass=False, create_plots=False, create_summary=False, data_dict='{H1:raw_data/H-H1_LOSC_CLN_4_V1-1187007040-2048.gwf, L1:raw_data/L-L1_LOSC_CLN_4_V1-1187007040-2048.gwf, V1:raw_data/V-V1_LOSC_CLN_4_V1-1187007040-2048.gwf}', data_dump_file=None, data_format=None, default_prior='BBHPriorDict', deltaT=0.2, detectors=['H1', 'L1', 'V1'], distance_marginalization=True, distance_marginalization_lookup_table=None, dlogz=0.1, do_not_save_bounds_in_resume=False, duration=128.0, dynesty_bound='multi', dynesty_sample='rwalk', email=None, enlarge=1.5, existing_dir=None, extra_likelihood_kwargs=None, extra_lines=None, facc=0.5, fast_mpi=False, frac_threshold=0.01, frequency_domain_source_model='lal_binary_neutron_star', gaussian_noise=False, generation_seed=None, gps_file=None, gps_tuple=None, idx=0, ignore_gwpy_data_quality_check=True, ini='GW170817.ini', injection=False, injection_dict=None, injection_file=None, injection_numbers=None, injection_waveform_approximant=None, jitter_time=True, label='GW170817', likelihood_type='GravitationalWaveTransient', local=False, local_generation=False, local_plot=False, log_directory=None, max_iterations=100000, max_its=10000000000, max_run_time=10000000000.0, maximum_frequency=None, maxmcmc=5000, mem_per_cpu=None, min_eff=10, min_tau=30, minimum_frequency='20', mode_array=None, mpi_timing=False, mpi_timing_interval=0, n_check_point=100, n_effective=inf, n_parallel=1, n_simulation=0, nact=5, ncheck=500, nestcheck=False, nfrac=5, nlive=1000, no_plot=False, nodes=10, nsamples=10000, ntasks_per_node=16, ntemps=20, nwalkers=100, online_pe=False, osg=False, outdir='outdir', periodic_restart_time=28800, phase_marginalization=True, plot_calibration=False, plot_corner=False, plot_format='png', plot_marginal=False, plot_skymap=False, plot_waveform=False, pn_amplitude_order=0, pn_phase_order=-1, pn_spin_order=-1, pn_tidal_order=-1, post_trigger_duration=2.0, postprocessing_arguments=None, postprocessing_executable=None, prior_dict=None, prior_file='GW170817.prior', process=None, psd_dict='{H1=psd_data/h1_psd.txt, L1=psd_data/l1_psd.txt, V1=psd_data/v1_psd.txt}', psd_fractional_overlap=0.5, psd_length=32, psd_maximum_duration=1024, psd_method='median', psd_start_time=None, reference_frame='sky', reference_frequency=20, request_cpus=1, request_memory=4.0, request_memory_generation=None, resampling_method='lal', roq_folder=None, roq_scale_factor=1, roq_weights=None, safety=1.0, sampler='dynesty', sampler_kwargs='Default', sampling_frequency=4096, sampling_seed=1234, scheduler='condor', scheduler_args=None, scheduler_env=None, scheduler_module=None, single_postprocessing_arguments=None, single_postprocessing_executable=None, singularity_image=None, slurm_extra_lines=None, spline_calibration_amplitude_uncertainty_dict=None, spline_calibration_envelope_dict=None, spline_calibration_nodes=5, spline_calibration_phase_uncertainty_dict=None, submit=False, summarypages_arguments=None, thin_by_nact=1.0, time='24:00:00', time_marginalization=True, time_reference='geocent', timeslide_dict=None, timeslide_file=None, transfer_files=True, trigger_time='1187008882.43', tukey_roll_off=0.4, verbose=False, vol_check=8, vol_dec=0.5, walks=100, waveform_approximant='IMRPhenomPv2_NRTidal', waveform_generator='bilby.gw.waveform_generator.WaveformGenerator', webdir=None, zero_noise=False)\n",
      "14:26 bilby_pipe INFO    : Unknown command line arguments: []\n",
      "14:26 bilby_pipe INFO    : Generation seed set to 680427\n",
      "14:26 bilby_pipe INFO    : Setting trigger time 1187008882.43\n",
      "14:26 bilby_pipe INFO    : Setting prior-file to GW170817.prior\n",
      "14:26 bilby_pipe INFO    : Setting segment duration 128.0s\n",
      "14:26 bilby_pipe INFO    : No maximum frequency given. Setting to sampling frequency / 2 = 2048.0\n",
      "14:26 bilby_pipe INFO    : No calibration_model model provided, calibration marginalization will not be used\n",
      "14:26 bilby_pipe INFO    : Setting H1 PSD from file psd_data/h1_psd.txt\n",
      "14:26 bilby_pipe INFO    : Getting analysis-segment data for H1\n",
      "14:26 bilby_pipe INFO    : Running: gwpy.timeseries.TimeSeries.read(source='raw_data/H-H1_LOSC_CLN_4_V1-1187007040-2048.gwf', channel='H1:LOSC-STRAIN', dtype='float64', format='gwf.lalframe', )\n",
      "14:26 bilby_pipe INFO    : Sample rate matches data no resampling\n",
      "14:26 bilby_pipe INFO    : Setting L1 PSD from file psd_data/l1_psd.txt\n",
      "14:26 bilby_pipe INFO    : Getting analysis-segment data for L1\n",
      "14:26 bilby_pipe INFO    : Running: gwpy.timeseries.TimeSeries.read(source='raw_data/L-L1_LOSC_CLN_4_V1-1187007040-2048.gwf', channel='L1:LOSC-STRAIN', dtype='float64', format='gwf.lalframe', )\n",
      "14:26 bilby_pipe INFO    : Sample rate matches data no resampling\n",
      "14:26 bilby_pipe INFO    : Setting V1 PSD from file psd_data/v1_psd.txt\n",
      "14:26 bilby_pipe INFO    : Getting analysis-segment data for V1\n",
      "14:26 bilby_pipe INFO    : Running: gwpy.timeseries.TimeSeries.read(source='raw_data/V-V1_LOSC_CLN_4_V1-1187007040-2048.gwf', channel='V1:LOSC-STRAIN', dtype='float64', format='gwf.lalframe', )\n",
      "14:26 bilby_pipe INFO    : Sample rate matches data no resampling\n",
      "14:26 bilby INFO    : Generating frequency domain strain from given time domain strain.\n",
      "14:26 bilby INFO    : Applying a tukey window with alpha=0.00625, roll off=0.4\n",
      "14:26 bilby INFO    : Generating frequency domain strain from given time domain strain.\n",
      "14:26 bilby INFO    : Applying a tukey window with alpha=0.00625, roll off=0.4\n",
      "14:26 bilby INFO    : Generating frequency domain strain from given time domain strain.\n",
      "14:26 bilby INFO    : Applying a tukey window with alpha=0.00625, roll off=0.4\n",
      "14:26 bilby INFO    : Setting up likelihood with marginalizations: distance=True time=True phase=True \n",
      "14:26 bilby_pipe INFO    : Setting geocent time prior using trigger-time=1187008882.43 and deltaT=0.2\n",
      "14:26 bilby_pipe INFO    : Using the lal_binary_neutron_star source model\n",
      "14:26 bilby INFO    : Waveform generator initiated with\n",
      "  frequency_domain_source_model: bilby.gw.source.lal_binary_neutron_star\n",
      "  time_domain_source_model: None\n",
      "  parameter_conversion: bilby.gw.conversion.convert_to_lal_binary_neutron_star_parameters\n",
      "14:26 bilby INFO    : Distance marginalisation file .distance_marginalization_lookup.npz does not exist\n",
      "14:26 bilby INFO    : Building lookup table for distance marginalisation.\n",
      "14:30 bilby INFO    : Initial meta_data = {'command_line_args': {'nlive': 1000, 'dlogz': 0.1, 'n_effective': inf, 'dynesty_sample': 'rwalk', 'dynesty_bound': 'multi', 'walks': 100, 'maxmcmc': 5000, 'nact': 5, 'min_eff': 10, 'facc': 0.5, 'vol_dec': 0.5, 'vol_check': 8, 'enlarge': 1.5, 'n_check_point': 100, 'max_its': 10000000000, 'max_run_time': 10000000000.0, 'fast_mpi': False, 'mpi_timing': False, 'mpi_timing_interval': 0, 'nestcheck': False, 'nsamples': 10000, 'ntemps': 20, 'nwalkers': 100, 'max_iterations': 100000, 'ncheck': 500, 'burn_in_nact': 50.0, 'thin_by_nact': 1.0, 'frac_threshold': 0.01, 'nfrac': 5, 'min_tau': 30, 'Tmax': 10000, 'safety': 1.0, 'autocorr_c': 5.0, 'autocorr_tol': 50.0, 'adapt': False, 'bilby_zero_likelihood_mode': False, 'sampling_seed': 1234, 'clean': False, 'no_plot': False, 'do_not_save_bounds_in_resume': False, 'check_point_deltaT': 3600, 'ini': 'GW170817.ini', 'verbose': False, 'calibration_model': None, 'spline_calibration_envelope_dict': None, 'spline_calibration_nodes': 5, 'spline_calibration_amplitude_uncertainty_dict': None, 'spline_calibration_phase_uncertainty_dict': None, 'ignore_gwpy_data_quality_check': True, 'gps_tuple': None, 'gps_file': None, 'timeslide_file': None, 'timeslide_dict': None, 'trigger_time': '1187008882.43', 'gaussian_noise': False, 'n_simulation': 0, 'data_dict': '{H1:raw_data/H-H1_LOSC_CLN_4_V1-1187007040-2048.gwf, L1:raw_data/L-L1_LOSC_CLN_4_V1-1187007040-2048.gwf, V1:raw_data/V-V1_LOSC_CLN_4_V1-1187007040-2048.gwf}', 'data_format': None, 'channel_dict': '{H1:LOSC-STRAIN, L1:LOSC-STRAIN, V1=LOSC-STRAIN}', 'coherence_test': False, 'detectors': ['H1', 'L1', 'V1'], 'duration': 128.0, 'generation_seed': None, 'psd_dict': '{H1=psd_data/h1_psd.txt, L1=psd_data/l1_psd.txt, V1=psd_data/v1_psd.txt}', 'psd_fractional_overlap': 0.5, 'post_trigger_duration': 2.0, 'sampling_frequency': 4096, 'psd_length': 32, 'psd_maximum_duration': 1024, 'psd_method': 'median', 'psd_start_time': None, 'maximum_frequency': None, 'minimum_frequency': '20', 'zero_noise': False, 'tukey_roll_off': 0.4, 'resampling_method': 'lal', 'injection': False, 'injection_dict': None, 'injection_file': None, 'injection_numbers': None, 'injection_waveform_approximant': None, 'label': 'GW170817', 'outdir': 'outdir', 'periodic_restart_time': 28800, 'submit': False, 'log_directory': None, 'distance_marginalization': True, 'distance_marginalization_lookup_table': None, 'phase_marginalization': True, 'time_marginalization': True, 'jitter_time': True, 'reference_frame': 'sky', 'time_reference': 'geocent', 'likelihood_type': 'GravitationalWaveTransient', 'roq_folder': None, 'roq_weights': None, 'roq_scale_factor': 1, 'extra_likelihood_kwargs': None, 'create_plots': False, 'create_summary': False, 'existing_dir': None, 'webdir': None, 'summarypages_arguments': None, 'default_prior': 'BBHPriorDict', 'deltaT': 0.2, 'prior_file': 'GW170817.prior', 'prior_dict': None, 'convert_to_flat_in_component_mass': False, 'single_postprocessing_executable': None, 'single_postprocessing_arguments': None, 'n_parallel': 1, 'waveform_generator': 'bilby.gw.waveform_generator.WaveformGenerator', 'reference_frequency': 20, 'waveform_approximant': 'IMRPhenomPv2_NRTidal', 'catch_waveform_errors': False, 'pn_spin_order': -1, 'pn_tidal_order': -1, 'pn_phase_order': -1, 'pn_amplitude_order': 0, 'mode_array': None, 'frequency_domain_source_model': 'lal_binary_neutron_star', 'sampler': 'dynesty', 'nodes': 10, 'ntasks_per_node': 16, 'time': '24:00:00', 'mem_per_cpu': None, 'extra_lines': None, 'slurm_extra_lines': None, 'idx': 0, 'cluster': None, 'process': None, 'data_dump_file': None, 'accounting': None, 'local': False, 'local_generation': False, 'local_plot': False, 'request_memory': 4.0, 'request_memory_generation': None, 'request_cpus': 1, 'singularity_image': None, 'scheduler': 'condor', 'scheduler_args': None, 'scheduler_module': None, 'scheduler_env': None, 'transfer_files': True, 'online_pe': False, 'osg': False, 'plot_calibration': False, 'plot_corner': False, 'plot_marginal': False, 'plot_skymap': False, 'plot_waveform': False, 'plot_format': 'png', 'email': None, 'postprocessing_executable': None, 'postprocessing_arguments': None, 'sampler_kwargs': 'Default'}, 'unknown_command_line_args': [], 'injection_parameters': None, 'bilby_version': '1.0.2: (CLEAN) 2f578641 2020-10-09 12:25:19 +1100', 'bilby_pipe_version': '1.0.0', 'config_file': 'GW170817.ini', 'data_dump_file': 'outdir/data/GW170817_data_dump.pickle', 'parallel_bilby_version': '0.1.6: (CLEAN) 7518c55 2020-11-11 19:00:13 -0800', 'dynesty_version': '1.0.2'}\n",
      "14:30 bilby_pipe INFO    : Using the lal_binary_neutron_star source model\n",
      "14:30 bilby INFO    : Waveform generator initiated with\n",
      "  frequency_domain_source_model: bilby.gw.source.lal_binary_neutron_star\n",
      "  time_domain_source_model: None\n",
      "  parameter_conversion: bilby.gw.conversion.convert_to_lal_binary_neutron_star_parameters\n"
     ]
    },
    {
     "name": "stdout",
     "output_type": "stream",
     "text": [
      "14:30 bilby INFO    : Complete ini written: outdir/GW170817_config_complete.ini\r\n",
      "14:30 bilby INFO    : Setup complete, now run:\r\n",
      " $ bash outdir/submit/bash_GW170817.sh\r\n"
     ]
    }
   ],
   "source": [
    "!parallel_bilby_generation GW170817.ini"
   ]
  },
  {
   "cell_type": "markdown",
   "metadata": {},
   "source": [
    "When this runs successfully, you should see \n",
    "```\n",
    "14:04 bilby INFO    : Complete ini written: outdir/GW150914_config_complete.ini\n",
    "14:04 bilby INFO    : Setup complete, now run:\n",
    "$ bash outdir/submit/bash_GW170817.sh\n",
    "```\n",
    "\n",
    "If you now inspect the directory, you'll see a new folder called `outdir`. This is where results, logs, data, and submit files are contained."
   ]
  },
  {
   "cell_type": "markdown",
   "metadata": {},
   "source": [
    "The last thing to do is to run parallel bilby. If you're running on a cluster, the easiest thing to do at this point would be to run `bash outdir/submit/bash_GW170817.sh`. However, let's first take a look at the contenets of `outdir/submit/bash_GW170817.sh`. The bash script contains instructions to run another script, `analysis_GW170817_0.sh`. Inside `analysis_GW170817_0.sh` is the *actual* command that's submitted by the slurm scheduler:"
   ]
  },
  {
   "cell_type": "markdown",
   "metadata": {},
   "source": [
    "`mpirun parallel_bilby_analysis outdir/data/GW150914_data_dump.pickle --label GW150914_0 --outdir /Users/rsmi0016/git/parallel_bilby/examples/GW150914_IMRPhenomPv2/outdir/result --sampling-seed 1234`\n"
   ]
  },
  {
   "cell_type": "markdown",
   "metadata": {},
   "source": [
    "This can be run on your laptop, or headnode to test if everything is working."
   ]
  },
  {
   "cell_type": "code",
   "execution_count": null,
   "metadata": {},
   "outputs": [],
   "source": []
  }
 ],
 "metadata": {
  "kernelspec": {
   "display_name": "Python 3",
   "language": "python",
   "name": "python3"
  },
  "language_info": {
   "codemirror_mode": {
    "name": "ipython",
    "version": 3
   },
   "file_extension": ".py",
   "mimetype": "text/x-python",
   "name": "python",
   "nbconvert_exporter": "python",
   "pygments_lexer": "ipython3",
   "version": "3.7.4"
  }
 },
 "nbformat": 4,
 "nbformat_minor": 4
}